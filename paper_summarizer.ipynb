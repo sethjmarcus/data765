{
 "cells": [
  {
   "cell_type": "code",
   "execution_count": 3,
   "metadata": {},
   "outputs": [],
   "source": [
    "from docx import Document\n",
    "import openai"
   ]
  },
  {
   "cell_type": "code",
   "execution_count": 9,
   "metadata": {},
   "outputs": [],
   "source": [
    "def getTextFromDocx(filename):\n",
    "    doc = Document(filename)\n",
    "    fullText = []\n",
    "    for para in doc.paragraphs:\n",
    "        fullText.append(para.text)\n",
    "    #return '\\n'.join(fullText)\n",
    "    return fullText"
   ]
  },
  {
   "cell_type": "code",
   "execution_count": 5,
   "metadata": {},
   "outputs": [],
   "source": [
    "file_path = '/home/seth/Documents/Masters/Data765/Readings/'\n",
    "file_name = 'posavac_ch_1.docx'"
   ]
  },
  {
   "cell_type": "code",
   "execution_count": 10,
   "metadata": {},
   "outputs": [],
   "source": [
    "paper_content = getTextFromDocx(filename=file_path+file_name)"
   ]
  },
  {
   "attachments": {},
   "cell_type": "markdown",
   "metadata": {},
   "source": [
    "# Next Step\n",
    "Do a dummy run on a few paragraphs and see if that works."
   ]
  },
  {
   "cell_type": "code",
   "execution_count": 13,
   "metadata": {},
   "outputs": [
    {
     "data": {
      "text/plain": [
       "['Suppose you are working for the Student Counseling Center at Western Tech in a year or two. The center plans to offer a Sexual Assault Prevention Program to women and men in the following month, and you have been asked to develop a plan that will permit the center’s staff to decide whether (a) to offer the program again because it is successful, (b) to alter the program in order to make it more useful to participants, or (c) to drop the program because it fails to meet a need. You might stop reading for a moment and write down the steps you think are necessary to measure the success of such a program. Among other points, consider what evidence would indicate the program is successful, what would mean that it should be improved, and what would show that it should be ended.',\n",
       " '']"
      ]
     },
     "execution_count": 13,
     "metadata": {},
     "output_type": "execute_result"
    }
   ],
   "source": [
    "paper_content[2:4]"
   ]
  },
  {
   "cell_type": "code",
   "execution_count": 41,
   "metadata": {},
   "outputs": [],
   "source": [
    "def showPaperSummary(paperContent):\n",
    "    tldr_tag = \"\\n tl;dr:\"\n",
    "    openai.api_key = open('/home/seth/Documents/.chatgpt_secret_key/.secret').read()\n",
    "    \n",
    "    for page in paperContent:    \n",
    "        #text = page.extract_text() + tldr_tag\n",
    "        text = page + tldr_tag\n",
    "        response = openai.Completion.create(\n",
    "            model=\"text-davinci-003\",\n",
    "            prompt=text,\n",
    "            temperature=0.7,\n",
    "            max_tokens=60,\n",
    "            top_p=1,\n",
    "            frequency_penalty=0.0,\n",
    "            presence_penalty=1#,\n",
    "            #stop=[\"\\n\"]\n",
    "        )\n",
    "        print(response[\"choices\"][0][\"text\"])"
   ]
  },
  {
   "cell_type": "code",
   "execution_count": 45,
   "metadata": {},
   "outputs": [
    {
     "name": "stdout",
     "output_type": "stream",
     "text": [
      "Suppose you are working for the Student Counseling Center at Western Tech in a year or two. The center plans to offer a Sexual Assault Prevention Program to women and men in the following month, and you have been asked to develop a plan that will permit the center’s staff to decide whether (a) to offer the program again because it is successful, (b) to alter the program in order to make it more useful to participants, or (c) to drop the program because it fails to meet a need. You might stop reading for a moment and write down the steps you think are necessary to measure the success of such a program. Among other points, consider what evidence would indicate the program is successful, what would mean that it should be improved, and what would show that it should be ended.\n",
      "\n",
      "Because the center wishes to maintain and promote useful services to students, evaluating a program that might reduce sexual assaults on campus is an important assignment. The staff of the center would not want to devote resources for a program that does not meet the needs of students on campus; in such a case, something more helpful should be offered instead. If the program is good, you would want your plan to detect its strengths; where it needs improvement, you would want to detect its limitations. When you are finished with this text, you will be ready to tackle this project. To begin, what is program evaluation?\n",
      "\n",
      "The practice of evaluating one’s own efforts is as natural as breathing. Cooks taste their gravy and sauce and basketball players watch to see whether their shots go in. Indeed, it would be most unwise after turning on the hot water to neglect to check the water temperature before stepping into a shower. At a basic level, program evaluation is nothing more than applying this commonsense practice to settings in which organized efforts, called “programs,” are devoted to helping people who need education, medical treatment, job training, safe streets, welfare assistance, safety while traveling in airplanes, recreational services, or any of the thousands of services provided in a modern society. Program evaluation is a methodology to learn the depth and extent of need for a human service and whether the service is likely to be used, whether the service is sufficient to meet the unmet needs identified, and the degree to which the service is offered as planned and actually does help people in need at a reasonable cost without unacceptable side effects. Utilizing research methods and concepts from psychology, sociology, administration and policy sciences, economics, and education, program evaluators seek to contribute to the improvement of programs.\n",
      "\n"
     ]
    }
   ],
   "source": [
    "test_data = [paper_content[2], paper_content[4], paper_content[6]]\n",
    "for i in test_data:\n",
    "    print(i)\n",
    "    print()"
   ]
  },
  {
   "cell_type": "code",
   "execution_count": 42,
   "metadata": {},
   "outputs": [
    {
     "name": "stdout",
     "output_type": "stream",
     "text": [
      "\n",
      "\n",
      "To measure the success of the Sexual Assault Prevention Program, the following steps should be taken:\n",
      "1. Gather feedback from participants to obtain an understanding of their experience and gauge satisfaction with the program.\n",
      "2. Track outcomes related to the program's goals and objectives, such as changes in\n",
      " Program evaluation involves assessing the effectiveness of a program to determine its strengths and weaknesses, so that resources can be devoted to programs that meet the needs of students on campus.\n",
      " Program evaluation is a method of understanding the need for human services and determining if they are effective and efficient. It is based on research from various disciplines, such as psychology, sociology, economics, and education, to improve and refine these services.\n"
     ]
    }
   ],
   "source": [
    "showPaperSummary(test_data)"
   ]
  }
 ],
 "metadata": {
  "kernelspec": {
   "display_name": "chatgpt_env",
   "language": "python",
   "name": "python3"
  },
  "language_info": {
   "codemirror_mode": {
    "name": "ipython",
    "version": 3
   },
   "file_extension": ".py",
   "mimetype": "text/x-python",
   "name": "python",
   "nbconvert_exporter": "python",
   "pygments_lexer": "ipython3",
   "version": "3.11.0"
  },
  "orig_nbformat": 4,
  "vscode": {
   "interpreter": {
    "hash": "55e379591ece731dfb767260f12333fbba7b10c7186d7cde90578b02c832b96c"
   }
  }
 },
 "nbformat": 4,
 "nbformat_minor": 2
}
